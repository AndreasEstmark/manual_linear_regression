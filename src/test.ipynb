{
 "cells": [
  {
   "cell_type": "code",
   "execution_count": 21,
   "id": "367c8baa",
   "metadata": {},
   "outputs": [],
   "source": [
    "import polars as pl\n",
    "import numpy as np\n",
    "import kagglehub\n",
    "from kagglehub import KaggleDatasetAdapter\n",
    "from sklearn.preprocessing import StandardScaler\n",
    "\n",
    "import sys\n",
    "import os\n",
    "sys.path.append(os.path.abspath(os.path.join(os.getcwd(), 'src')))"
   ]
  },
  {
   "cell_type": "markdown",
   "id": "1ae82708",
   "metadata": {},
   "source": [
    "Simple hypothesis testing using linear regression. \n",
    "Will focus on assumptions, linear algebra and testing\n"
   ]
  },
  {
   "cell_type": "code",
   "execution_count": null,
   "id": "289f9a6e",
   "metadata": {},
   "outputs": [
    {
     "name": "stdout",
     "output_type": "stream",
     "text": [
      "C:\\Users\\andre\\.cache\\kagglehub\\datasets\\nehalbirla\\vehicle-dataset-from-cardekho\\versions\\4\n"
     ]
    },
    {
     "ename": "AttributeError",
     "evalue": "module 'polars.datatypes' has no attribute 'is_numeric'",
     "output_type": "error",
     "traceback": [
      "\u001b[31m---------------------------------------------------------------------------\u001b[39m",
      "\u001b[31mAttributeError\u001b[39m                            Traceback (most recent call last)",
      "\u001b[36mCell\u001b[39m\u001b[36m \u001b[39m\u001b[32mIn[22]\u001b[39m\u001b[32m, line 14\u001b[39m\n\u001b[32m     11\u001b[39m df.head()\n\u001b[32m     13\u001b[39m \u001b[38;5;66;03m# Correlation matrix (numeric columns only)\u001b[39;00m\n\u001b[32m---> \u001b[39m\u001b[32m14\u001b[39m numeric_cols = \u001b[43m[\u001b[49m\u001b[43mcol\u001b[49m\u001b[43m \u001b[49m\u001b[38;5;28;43;01mfor\u001b[39;49;00m\u001b[43m \u001b[49m\u001b[43mcol\u001b[49m\u001b[43m,\u001b[49m\u001b[43m \u001b[49m\u001b[43mdtype\u001b[49m\u001b[43m \u001b[49m\u001b[38;5;129;43;01min\u001b[39;49;00m\u001b[43m \u001b[49m\u001b[38;5;28;43mzip\u001b[39;49m\u001b[43m(\u001b[49m\u001b[43mdf\u001b[49m\u001b[43m.\u001b[49m\u001b[43mcolumns\u001b[49m\u001b[43m,\u001b[49m\u001b[43m \u001b[49m\u001b[43mdf\u001b[49m\u001b[43m.\u001b[49m\u001b[43mdtypes\u001b[49m\u001b[43m)\u001b[49m\u001b[43m \u001b[49m\u001b[38;5;28;43;01mif\u001b[39;49;00m\u001b[43m \u001b[49m\u001b[43mpl\u001b[49m\u001b[43m.\u001b[49m\u001b[43mdatatypes\u001b[49m\u001b[43m.\u001b[49m\u001b[43mis_numeric\u001b[49m\u001b[43m(\u001b[49m\u001b[43mdtype\u001b[49m\u001b[43m)\u001b[49m\u001b[43m]\u001b[49m\n\u001b[32m     15\u001b[39m corr_matrix = df.select(numeric_cols).corr()\n\u001b[32m     16\u001b[39m \u001b[38;5;28mprint\u001b[39m(corr_matrix)\n",
      "\u001b[36mCell\u001b[39m\u001b[36m \u001b[39m\u001b[32mIn[22]\u001b[39m\u001b[32m, line 14\u001b[39m, in \u001b[36m<listcomp>\u001b[39m\u001b[34m(.0)\u001b[39m\n\u001b[32m     11\u001b[39m df.head()\n\u001b[32m     13\u001b[39m \u001b[38;5;66;03m# Correlation matrix (numeric columns only)\u001b[39;00m\n\u001b[32m---> \u001b[39m\u001b[32m14\u001b[39m numeric_cols = [col \u001b[38;5;28;01mfor\u001b[39;00m col, dtype \u001b[38;5;129;01min\u001b[39;00m \u001b[38;5;28mzip\u001b[39m(df.columns, df.dtypes) \u001b[38;5;28;01mif\u001b[39;00m \u001b[43mpl\u001b[49m\u001b[43m.\u001b[49m\u001b[43mdatatypes\u001b[49m\u001b[43m.\u001b[49m\u001b[43mis_numeric\u001b[49m(dtype)]\n\u001b[32m     15\u001b[39m corr_matrix = df.select(numeric_cols).corr()\n\u001b[32m     16\u001b[39m \u001b[38;5;28mprint\u001b[39m(corr_matrix)\n",
      "\u001b[31mAttributeError\u001b[39m: module 'polars.datatypes' has no attribute 'is_numeric'"
     ]
    }
   ],
   "source": [
    "# retrieve data\n",
    "\n",
    "import os \n",
    "# Load the latest version\n",
    "path = kagglehub.dataset_download(\"nehalbirla/vehicle-dataset-from-cardekho\")\n",
    "\n",
    "print(path)\n",
    "csv_path = os.path.join(path, \"CAR DETAILS FROM CAR DEKHO.csv\")  # replace with actual filename\n",
    "df = pl.read_csv(csv_path)\n",
    "df = df.to_pandas()  # Convert Polars DataFrame to Pandas DataFrame\n",
    "df.head()\n",
    "\n",
    "df.corr(numeric_only=True)"
   ]
  },
  {
   "cell_type": "code",
   "execution_count": null,
   "id": "289f9a6e",
   "metadata": {},
   "outputs": [],
   "source": [
    "import models.ols\n",
    "import importlib\n",
    "importlib.reload(models.ols)\n",
    "from models.ols import OLSRegression\n",
    "from utils import check_if_matrix_is_invertible\n",
    "#Prepare the data\n",
    "X = df.drop(columns=[\"name\", \"selling_price\"])\n",
    "y = df[\"selling_price\"].values\n",
    "y = y.astype(float).reshape(-1, 1)  # Now y is (4340, 1)\n",
    "X = pd.get_dummies(X, drop_first=True).values.astype(float)  # get np.array\n",
    "model = OLSRegression().fit(X, y)\n",
    "\n"
   ]
  },
  {
   "cell_type": "code",
   "execution_count": null,
   "id": "7581231e",
   "metadata": {},
   "outputs": [],
   "source": [
    "print(f\"Model r-squared: {model.r_squared_}\")\n",
    "# Model r-squared: 0.4187324023560647"
   ]
  }
 ],
 "metadata": {
  "kernelspec": {
   "display_name": "regression-analysis-6JAh9Wcs-py3.11",
   "language": "python",
   "name": "python3"
  },
  "language_info": {
   "codemirror_mode": {
    "name": "ipython",
    "version": 3
   },
   "file_extension": ".py",
   "mimetype": "text/x-python",
   "name": "python",
   "nbconvert_exporter": "python",
   "pygments_lexer": "ipython3",
   "version": "3.11.0"
  }
 },
 "nbformat": 4,
 "nbformat_minor": 5
}
