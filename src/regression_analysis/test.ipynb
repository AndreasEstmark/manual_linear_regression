{
 "cells": [
  {
   "cell_type": "code",
   "execution_count": 1,
   "id": "367c8baa",
   "metadata": {},
   "outputs": [
    {
     "name": "stderr",
     "output_type": "stream",
     "text": [
      "c:\\Users\\andre\\AppData\\Local\\pypoetry\\Cache\\virtualenvs\\regression-analysis-6JAh9Wcs-py3.11\\Lib\\site-packages\\tqdm\\auto.py:21: TqdmWarning: IProgress not found. Please update jupyter and ipywidgets. See https://ipywidgets.readthedocs.io/en/stable/user_install.html\n",
      "  from .autonotebook import tqdm as notebook_tqdm\n"
     ]
    }
   ],
   "source": [
    "import polars as pl\n",
    "import numpy as np\n",
    "import kagglehub\n",
    "from kagglehub import KaggleDatasetAdapter\n",
    "from sklearn.preprocessing import StandardScaler\n",
    "import pandas as pd \n",
    "import sys\n",
    "import os\n"
   ]
  },
  {
   "cell_type": "markdown",
   "id": "1ae82708",
   "metadata": {},
   "source": [
    "Simple hypothesis testing using linear regression. \n",
    "Will focus on assumptions, linear algebra and testing\n"
   ]
  },
  {
   "cell_type": "code",
   "execution_count": 2,
   "id": "289f9a6e",
   "metadata": {},
   "outputs": [
    {
     "name": "stdout",
     "output_type": "stream",
     "text": [
      "C:\\Users\\andre\\.cache\\kagglehub\\datasets\\nehalbirla\\vehicle-dataset-from-cardekho\\versions\\4\n"
     ]
    },
    {
     "data": {
      "application/vnd.microsoft.datawrangler.viewer.v0+json": {
       "columns": [
        {
         "name": "index",
         "rawType": "object",
         "type": "string"
        },
        {
         "name": "year",
         "rawType": "float64",
         "type": "float"
        },
        {
         "name": "selling_price",
         "rawType": "float64",
         "type": "float"
        },
        {
         "name": "km_driven",
         "rawType": "float64",
         "type": "float"
        }
       ],
       "ref": "15d859cd-cf8a-4ff4-94a7-f335797c5d5d",
       "rows": [
        [
         "year",
         "1.0",
         "0.4139216798108341",
         "-0.41968814608289723"
        ],
        [
         "selling_price",
         "0.4139216798108341",
         "1.0",
         "-0.19228863054511486"
        ],
        [
         "km_driven",
         "-0.41968814608289723",
         "-0.19228863054511486",
         "1.0"
        ]
       ],
       "shape": {
        "columns": 3,
        "rows": 3
       }
      },
      "text/html": [
       "<div>\n",
       "<style scoped>\n",
       "    .dataframe tbody tr th:only-of-type {\n",
       "        vertical-align: middle;\n",
       "    }\n",
       "\n",
       "    .dataframe tbody tr th {\n",
       "        vertical-align: top;\n",
       "    }\n",
       "\n",
       "    .dataframe thead th {\n",
       "        text-align: right;\n",
       "    }\n",
       "</style>\n",
       "<table border=\"1\" class=\"dataframe\">\n",
       "  <thead>\n",
       "    <tr style=\"text-align: right;\">\n",
       "      <th></th>\n",
       "      <th>year</th>\n",
       "      <th>selling_price</th>\n",
       "      <th>km_driven</th>\n",
       "    </tr>\n",
       "  </thead>\n",
       "  <tbody>\n",
       "    <tr>\n",
       "      <th>year</th>\n",
       "      <td>1.000000</td>\n",
       "      <td>0.413922</td>\n",
       "      <td>-0.419688</td>\n",
       "    </tr>\n",
       "    <tr>\n",
       "      <th>selling_price</th>\n",
       "      <td>0.413922</td>\n",
       "      <td>1.000000</td>\n",
       "      <td>-0.192289</td>\n",
       "    </tr>\n",
       "    <tr>\n",
       "      <th>km_driven</th>\n",
       "      <td>-0.419688</td>\n",
       "      <td>-0.192289</td>\n",
       "      <td>1.000000</td>\n",
       "    </tr>\n",
       "  </tbody>\n",
       "</table>\n",
       "</div>"
      ],
      "text/plain": [
       "                   year  selling_price  km_driven\n",
       "year           1.000000       0.413922  -0.419688\n",
       "selling_price  0.413922       1.000000  -0.192289\n",
       "km_driven     -0.419688      -0.192289   1.000000"
      ]
     },
     "execution_count": 2,
     "metadata": {},
     "output_type": "execute_result"
    }
   ],
   "source": [
    "# retrieve data\n",
    "\n",
    "import os \n",
    "# Load the latest version\n",
    "path = kagglehub.dataset_download(\"nehalbirla/vehicle-dataset-from-cardekho\")\n",
    "\n",
    "print(path)\n",
    "csv_path = os.path.join(path, \"CAR DETAILS FROM CAR DEKHO.csv\")  # replace with actual filename\n",
    "df = pl.read_csv(csv_path)\n",
    "df = df.to_pandas()  # Convert Polars DataFrame to Pandas DataFrame\n",
    "df.head()\n",
    "\n",
    "df.corr(numeric_only=True)"
   ]
  },
  {
   "cell_type": "code",
   "execution_count": null,
   "id": "289f9a6e",
   "metadata": {},
   "outputs": [
    {
     "ename": "ImportError",
     "evalue": "module check_multicollinearity_in_regressors not in sys.modules",
     "output_type": "error",
     "traceback": [
      "\u001b[31m---------------------------------------------------------------------------\u001b[39m",
      "\u001b[31mImportError\u001b[39m                               Traceback (most recent call last)",
      "\u001b[36mCell\u001b[39m\u001b[36m \u001b[39m\u001b[32mIn[7]\u001b[39m\u001b[32m, line 5\u001b[39m\n\u001b[32m      3\u001b[39m \u001b[38;5;28;01mfrom\u001b[39;00m\u001b[38;5;250m \u001b[39m\u001b[34;01mregression_analysis\u001b[39;00m\u001b[34;01m.\u001b[39;00m\u001b[34;01mutils\u001b[39;00m\u001b[34;01m.\u001b[39;00m\u001b[34;01mdiagnostics\u001b[39;00m\u001b[38;5;250m \u001b[39m\u001b[38;5;28;01mimport\u001b[39;00m *\n\u001b[32m      4\u001b[39m importlib.reload(regression_analysis.models.ols)  \u001b[38;5;66;03m# Now you can reload it\u001b[39;00m\n\u001b[32m----> \u001b[39m\u001b[32m5\u001b[39m \u001b[43mimportlib\u001b[49m\u001b[43m.\u001b[49m\u001b[43mreload\u001b[49m\u001b[43m(\u001b[49m\u001b[43mregression_analysis\u001b[49m\u001b[43m.\u001b[49m\u001b[43mutils\u001b[49m\u001b[43m.\u001b[49m\u001b[43mdiagnostics\u001b[49m\u001b[43m.\u001b[49m\u001b[43mcheck_multicollinearity_in_regressors\u001b[49m\u001b[43m)\u001b[49m  \u001b[38;5;66;03m# Now you can reload it\u001b[39;00m\n\u001b[32m      8\u001b[39m \u001b[38;5;28;01mfrom\u001b[39;00m\u001b[38;5;250m \u001b[39m\u001b[34;01mregression_analysis\u001b[39;00m\u001b[34;01m.\u001b[39;00m\u001b[34;01mmodels\u001b[39;00m\u001b[34;01m.\u001b[39;00m\u001b[34;01mols\u001b[39;00m\u001b[38;5;250m \u001b[39m\u001b[38;5;28;01mimport\u001b[39;00m OLSRegression\n\u001b[32m      9\u001b[39m \u001b[38;5;28;01mfrom\u001b[39;00m\u001b[38;5;250m \u001b[39m\u001b[34;01mregression_analysis\u001b[39;00m\u001b[34;01m.\u001b[39;00m\u001b[34;01mutils\u001b[39;00m\u001b[34;01m.\u001b[39;00m\u001b[34;01mdiagnostics\u001b[39;00m\u001b[38;5;250m \u001b[39m\u001b[38;5;28;01mimport\u001b[39;00m check_if_matrix_is_invertible\n",
      "\u001b[36mFile \u001b[39m\u001b[32m~\\AppData\\Local\\Programs\\Python\\Python311\\Lib\\importlib\\__init__.py:148\u001b[39m, in \u001b[36mreload\u001b[39m\u001b[34m(module)\u001b[39m\n\u001b[32m    146\u001b[39m \u001b[38;5;28;01mif\u001b[39;00m sys.modules.get(name) \u001b[38;5;129;01mis\u001b[39;00m \u001b[38;5;129;01mnot\u001b[39;00m module:\n\u001b[32m    147\u001b[39m     msg = \u001b[33m\"\u001b[39m\u001b[33mmodule \u001b[39m\u001b[38;5;132;01m{}\u001b[39;00m\u001b[33m not in sys.modules\u001b[39m\u001b[33m\"\u001b[39m\n\u001b[32m--> \u001b[39m\u001b[32m148\u001b[39m     \u001b[38;5;28;01mraise\u001b[39;00m \u001b[38;5;167;01mImportError\u001b[39;00m(msg.format(name), name=name)\n\u001b[32m    149\u001b[39m \u001b[38;5;28;01mif\u001b[39;00m name \u001b[38;5;129;01min\u001b[39;00m _RELOADING:\n\u001b[32m    150\u001b[39m     \u001b[38;5;28;01mreturn\u001b[39;00m _RELOADING[name]\n",
      "\u001b[31mImportError\u001b[39m: module check_multicollinearity_in_regressors not in sys.modules"
     ]
    }
   ],
   "source": [
    "import importlib\n",
    "import regression_analysis.models.ols  # Load the module object (needed before reload)\n",
    "from regression_analysis.utils.diagnostics import check_multicollinearity_in_regressors\n",
    "importlib.reload(regression_analysis.models.ols)  # Now you can reload it\n",
    "importlib.reload(regression_analysis.utils.diagnostics.check_multicollinearity_in_regressors)  # Now you can reload it\n",
    "\n",
    "\n",
    "from regression_analysis.models.ols import OLSRegression\n",
    "from regression_analysis.utils.diagnostics import check_if_matrix_is_invertible\n",
    "\n",
    "\n",
    "#Prepare the data\n",
    "X = df.drop(columns=[\"name\", \"selling_price\"])\n",
    "y = df[\"selling_price\"].values\n",
    "y = y.astype(float).reshape(-1, 1)  # Now y is (4340, 1)\n",
    "X = pd.get_dummies(X, drop_first=True).values.astype(float)  # get np.array\n",
    "model = OLSRegression().fit_and_diagnostics(X, y)\n",
    "\n"
   ]
  },
  {
   "cell_type": "markdown",
   "id": "2fe7f6c6",
   "metadata": {},
   "source": [
    "VIF for x_i: 1.2703919353499433\n"
   ]
  },
  {
   "cell_type": "code",
   "execution_count": null,
   "id": "7581231e",
   "metadata": {},
   "outputs": [],
   "source": [
    "print(f\"Model r-squared: {model.r_squared_}\")\n",
    "# Model r-squared: 0.4187324023560647"
   ]
  }
 ],
 "metadata": {
  "kernelspec": {
   "display_name": "regression-analysis-6JAh9Wcs-py3.11",
   "language": "python",
   "name": "python3"
  },
  "language_info": {
   "codemirror_mode": {
    "name": "ipython",
    "version": 3
   },
   "file_extension": ".py",
   "mimetype": "text/x-python",
   "name": "python",
   "nbconvert_exporter": "python",
   "pygments_lexer": "ipython3",
   "version": "3.11.0"
  }
 },
 "nbformat": 4,
 "nbformat_minor": 5
}
