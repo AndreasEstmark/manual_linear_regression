{
 "cells": [
  {
   "cell_type": "code",
   "execution_count": null,
   "id": "367c8baa",
   "metadata": {},
   "outputs": [],
   "source": [
    "import polars as pl\n",
    "import numpy as np\n",
    "import kagglehub\n",
    "from kagglehub import KaggleDatasetAdapter\n",
    "from sklearn.preprocessing import StandardScaler\n",
    "import pandas as pd \n",
    "import sys\n",
    "import os\n"
   ]
  },
  {
   "cell_type": "markdown",
   "id": "1ae82708",
   "metadata": {},
   "source": [
    "Simple hypothesis testing using linear regression. \n",
    "Will focus on assumptions, linear algebra and testing\n"
   ]
  },
  {
   "cell_type": "code",
   "execution_count": null,
   "id": "289f9a6e",
   "metadata": {},
   "outputs": [],
   "source": [
    "# retrieve data\n",
    "\n",
    "import os \n",
    "# Load the latest version\n",
    "path = kagglehub.dataset_download(\"nehalbirla/vehicle-dataset-from-cardekho\")\n",
    "\n",
    "print(path)\n",
    "csv_path = os.path.join(path, \"CAR DETAILS FROM CAR DEKHO.csv\")  # replace with actual filename\n",
    "df = pl.read_csv(csv_path)\n",
    "df = df.to_pandas()  # Convert Polars DataFrame to Pandas DataFrame\n",
    "df.head()\n",
    "\n",
    "df.corr(numeric_only=True)"
   ]
  },
  {
   "cell_type": "code",
   "execution_count": null,
   "id": "289f9a6e",
   "metadata": {},
   "outputs": [],
   "source": [
    "import importlib\n",
    "import regression_analysis.models.ols  # Load the module object (needed before reload)\n",
    "from regression_analysis.utils.diagnostics import check_multicollinearity_in_regressors\n",
    "importlib.reload(regression_analysis.models.ols)  # Now you can reload it\n",
    "\n",
    "\n",
    "from regression_analysis.models.ols import OLSRegression\n",
    "from regression_analysis.utils.diagnostics import check_if_matrix_is_invertible\n",
    "\n",
    "\n",
    "#Prepare the data\n",
    "X = df.drop(columns=[\"name\", \"selling_price\"])\n",
    "y = df[\"selling_price\"].values\n",
    "y = y.astype(float).reshape(-1, 1)  # Now y is (4340, 1)\n",
    "X = pd.get_dummies(X, drop_first=True).values.astype(float)  # get np.array\n",
    "model = OLSRegression().fit_and_diagnostics(X, y)\n",
    "\n"
   ]
  },
  {
   "cell_type": "markdown",
   "id": "2fe7f6c6",
   "metadata": {},
   "source": [
    "VIF for x_i: 1.2703919353499433\n"
   ]
  },
  {
   "cell_type": "code",
   "execution_count": null,
   "id": "7581231e",
   "metadata": {},
   "outputs": [],
   "source": [
    "print(f\"Model r-squared: {model.r_squared_}\")\n",
    "# Model r-squared: 0.4187324023560647"
   ]
  }
 ],
 "metadata": {
  "kernelspec": {
   "display_name": "regression-analysis-6JAh9Wcs-py3.11",
   "language": "python",
   "name": "python3"
  },
  "language_info": {
   "codemirror_mode": {
    "name": "ipython",
    "version": 3
   },
   "file_extension": ".py",
   "mimetype": "text/x-python",
   "name": "python",
   "nbconvert_exporter": "python",
   "pygments_lexer": "ipython3",
   "version": "3.11.0"
  }
 },
 "nbformat": 4,
 "nbformat_minor": 5
}
