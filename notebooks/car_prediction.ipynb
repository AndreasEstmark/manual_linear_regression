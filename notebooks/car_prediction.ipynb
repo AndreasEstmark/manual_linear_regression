{
 "cells": [
  {
   "cell_type": "markdown",
   "id": "1ae82708",
   "metadata": {},
   "source": [
    "example notebook using my own statistics package. Using kaggle data\n",
    "\n"
   ]
  },
  {
   "cell_type": "code",
   "execution_count": null,
   "id": "289f9a6e",
   "metadata": {},
   "outputs": [],
   "source": [
    "import polars as pl\n",
    "import numpy as np\n",
    "import kagglehub\n",
    "from kagglehub import KaggleDatasetAdapter\n",
    "from sklearn.preprocessing import StandardScaler\n",
    "import pandas as pd \n",
    "import sys\n",
    "import os\n",
    "import matplotlib.pyplot as plt \n",
    "import matplotlib\n",
    "\n",
    "from matplotlib import ticker\n",
    "\n",
    "# additional code before plt.show()\n",
    "formatter = ticker.ScalarFormatter()\n",
    "formatter.set_scientific(False)\n",
    "# retrieve data\n",
    "\n",
    "import os \n",
    "# Load the latest version\n",
    "path = kagglehub.dataset_download(\"nehalbirla/vehicle-dataset-from-cardekho\")\n",
    "\n",
    "csv_path = os.path.join(path, \"CAR DETAILS FROM CAR DEKHO.csv\")  # replace with actual filename\n",
    "df = pl.read_csv(csv_path)\n",
    "df = df.to_pandas()  # Convert Polars DataFrame to Pandas DataFrame\n"
   ]
  },
  {
   "cell_type": "markdown",
   "id": "bb64d836",
   "metadata": {},
   "source": [
    "some exploratory data analysis"
   ]
  },
  {
   "cell_type": "code",
   "execution_count": null,
   "id": "0c494b41",
   "metadata": {},
   "outputs": [],
   "source": [
    "df.head()\n",
    "# columns: year, selling_price, km_driven, fuel, seller_type, transmission, owner\n",
    "# numeric and categorical features\n",
    "# I want to predict the selling price based on the features in the dataset, using linear regression.\n",
    "\n",
    "df.shape\n",
    "\n",
    "# 4340 rows and 8 columns \n",
    "\n",
    "\n"
   ]
  },
  {
   "cell_type": "code",
   "execution_count": null,
   "id": "13e67d42",
   "metadata": {},
   "outputs": [],
   "source": [
    "# how does the price column look like?\n",
    "plt.figure(figsize=(10,6))\n",
    "plt.hist(df['selling_price'], bins=200)\n",
    "ax = plt.gca()  # Get current Axes\n",
    "ax.yaxis.set_major_formatter(formatter)\n",
    "ax.ticklabel_format(style='plain', axis='x') # it kept on showing scientific notation \n",
    "\n",
    "\n",
    "plt.show()\n",
    "\n",
    "# variable that I aim to predict is very skewed to the right. There are also some outliers. \n",
    "# consider log normal distribution for the target variable"
   ]
  },
  {
   "cell_type": "code",
   "execution_count": null,
   "id": "137e46f3",
   "metadata": {},
   "outputs": [],
   "source": [
    "plt.figure(figsize=(10,6))\n",
    "plt.hist(df['selling_price'], bins=200)\n",
    "plt.xscale('log')\n",
    "plt.xlabel(\"Selling Price (log scale)\")\n",
    "plt.ylabel(\"Count\")\n",
    "plt.show()\n"
   ]
  },
  {
   "cell_type": "markdown",
   "id": "b35819f4",
   "metadata": {},
   "source": [
    "I therefore transform the variable."
   ]
  },
  {
   "cell_type": "code",
   "execution_count": null,
   "id": "cb67f709",
   "metadata": {},
   "outputs": [],
   "source": [
    "from regression_analysis.utils.helpers import log_transform_dependent_variable\n",
    "\n",
    "\n",
    "y = df[\"selling_price\"].values\n",
    "y = y.astype(float).reshape(-1, 1)  # Now y is (4340, 1)\n",
    "y = log_transform_dependent_variable(y)\n",
    "\n",
    "plt.figure(figsize=(10,6))\n",
    "plt.hist(y, bins=200)\n",
    "ax = plt.gca()  # Get current Axes\n",
    "ax.yaxis.set_major_formatter(formatter)\n",
    "ax.ticklabel_format(style='plain', axis='x') \n",
    "plt.xlabel(\"Log Selling Price\")\n",
    "plt.ylabel(\"Count\")\n",
    "plt.show()\n"
   ]
  },
  {
   "cell_type": "code",
   "execution_count": null,
   "id": "b2a04f1a",
   "metadata": {},
   "outputs": [],
   "source": [
    "#Prepare the data\n",
    "X = pd.get_dummies(df.drop(columns=[\"name\", \"selling_price\"]), drop_first=True)\n",
    "print(X.columns)   #  gives the labels\n",
    "#X = X.values.astype(float)  "
   ]
  },
  {
   "cell_type": "code",
   "execution_count": null,
   "id": "289f9a6e",
   "metadata": {},
   "outputs": [],
   "source": [
    "import importlib\n",
    "import regression_analysis.models.ols  # Load the module object (needed before reload)\n",
    "from regression_analysis.utils.diagnostics import check_multicollinearity_in_regressors\n",
    "importlib.reload(regression_analysis.models.ols)  # Now you can reload it\n",
    "\n",
    "\n",
    "from regression_analysis.models.ols import OLSRegression\n",
    "from regression_analysis.utils.diagnostics import check_if_matrix_is_invertible\n",
    "\n",
    "\n",
    "\n",
    "model = OLSRegression().fit_and_diagnostics(X, y)\n",
    "\n"
   ]
  },
  {
   "cell_type": "markdown",
   "id": "2fe7f6c6",
   "metadata": {},
   "source": [
    "VIF for x_i: 1.2703919353499433\n",
    "now prints all the vifs\n"
   ]
  },
  {
   "cell_type": "code",
   "execution_count": null,
   "id": "7581231e",
   "metadata": {},
   "outputs": [],
   "source": [
    "print(f\"Model r-squared: {model.r_squared_}\")\n",
    "# Model r-squared: 0.4187324023560647\n",
    "\n",
    "\n"
   ]
  }
 ],
 "metadata": {
  "kernelspec": {
   "display_name": "regression-analysis-6JAh9Wcs-py3.11",
   "language": "python",
   "name": "python3"
  },
  "language_info": {
   "codemirror_mode": {
    "name": "ipython",
    "version": 3
   },
   "file_extension": ".py",
   "mimetype": "text/x-python",
   "name": "python",
   "nbconvert_exporter": "python",
   "pygments_lexer": "ipython3",
   "version": "3.11.0"
  }
 },
 "nbformat": 4,
 "nbformat_minor": 5
}
