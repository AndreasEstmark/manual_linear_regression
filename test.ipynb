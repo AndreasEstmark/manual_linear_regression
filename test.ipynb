{
 "cells": [
  {
   "cell_type": "code",
   "execution_count": null,
   "id": "367c8baa",
   "metadata": {},
   "outputs": [],
   "source": [
    "import pandas as pd\n",
    "import numpy as np\n",
    "import kagglehub\n",
    "from kagglehub import KaggleDatasetAdapter\n",
    "from sklearn.preprocessing import StandardScaler"
   ]
  },
  {
   "cell_type": "markdown",
   "id": "1ae82708",
   "metadata": {},
   "source": [
    "Simple hypothesis testing using linear regression. \n",
    "Will focus on assumptions, linear algebra and testing\n"
   ]
  },
  {
   "cell_type": "code",
   "execution_count": null,
   "id": "be938ec6",
   "metadata": {},
   "outputs": [],
   "source": [
    "# retrieve data\n",
    "\n",
    "import os \n",
    "# Load the latest version\n",
    "path = kagglehub.dataset_download(\"nehalbirla/vehicle-dataset-from-cardekho\")\n",
    "\n",
    "print(path)\n",
    "csv_path = os.path.join(path, \"CAR DETAILS FROM CAR DEKHO.csv\")  # replace with actual filename\n",
    "df = pd.read_csv(csv_path)  \n",
    "\n",
    "df.head()\n",
    "\n",
    "df.corr(numeric_only=True)"
   ]
  },
  {
   "cell_type": "code",
   "execution_count": null,
   "id": "289f9a6e",
   "metadata": {},
   "outputs": [],
   "source": [
    "from model import LinearRegression\n",
    "from utils import check_if_matrix_is_invertible\n",
    "# Prepare the data\n",
    "X = df.drop(columns=[\"name\", \"selling_price\"])\n",
    "y = df[\"selling_price\"].values\n",
    "X = pd.get_dummies(X, drop_first=True)  # Convert categorical variables to dummy variables\n",
    "X = X.astype(float)  # Ensure all columns are float\n",
    "X = np.matrix(X)  # Convert to matrix for the model\n",
    "model = LinearRegression().fit(X, y)\n"
   ]
  },
  {
   "cell_type": "code",
   "execution_count": null,
   "id": "fec42573",
   "metadata": {},
   "outputs": [],
   "source": [
    "print(X.shape)"
   ]
  }
 ],
 "metadata": {
  "kernelspec": {
   "display_name": "regression-analysis-6JAh9Wcs-py3.11",
   "language": "python",
   "name": "python3"
  },
  "language_info": {
   "codemirror_mode": {
    "name": "ipython",
    "version": 3
   },
   "file_extension": ".py",
   "mimetype": "text/x-python",
   "name": "python",
   "nbconvert_exporter": "python",
   "pygments_lexer": "ipython3",
   "version": "3.11.0"
  }
 },
 "nbformat": 4,
 "nbformat_minor": 5
}
